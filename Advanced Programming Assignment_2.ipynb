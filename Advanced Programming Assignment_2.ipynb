{
 "cells": [
  {
   "cell_type": "markdown",
   "metadata": {},
   "source": [
    "1) Write a function that takes a positive integer num and calculates how many\n",
    "dots exist in a pentagonal shape around the center dot on the Nth iteration.\n",
    "In the image below you can see the first iteration is only a single dot. On the\n",
    "second, there are 6 dots. On the third, there are 16 dots, and on the fourth\n",
    "there are 31 dots."
   ]
  },
  {
   "cell_type": "markdown",
   "metadata": {},
   "source": [
    "In the image below you can see the first iteration is only a single dot. On the second, there are 6 dots. On the third, there are 16 dots, and on the fourth there are 31 dots.\n",
    "image.png Examples:\n",
    "pentagonal(1) ➞ 1\n",
    "pentagonal(2) ➞ 6\n",
    "pentagonal(3) ➞ 16\n",
    "pentagonal(8) ➞ 141"
   ]
  },
  {
   "cell_type": "markdown",
   "metadata": {},
   "source": [
    "Ans 1)"
   ]
  },
  {
   "cell_type": "code",
   "execution_count": 16,
   "metadata": {},
   "outputs": [
    {
     "name": "stdout",
     "output_type": "stream",
     "text": [
      "Enter the number of iterations: 4\n",
      "For  4  Iterations  the number of dots is :  31\n"
     ]
    }
   ],
   "source": [
    "def pentagon(n):\n",
    "    points = 1\n",
    "    if n> 1:\n",
    "        \n",
    "        for i in range(n):\n",
    "            points = points + (5*i)\n",
    "        \n",
    "    return points\n",
    "\n",
    "n = int(input(\"Enter the number of iterations: \"))\n",
    "print(\"For \", n,\" Iterations\", \" the number of dots is : \",pentagon(n))"
   ]
  },
  {
   "cell_type": "markdown",
   "metadata": {},
   "source": [
    "2).. Make a function that encrypts a given input with these steps:\n",
    "Input: \"apple\"\n",
    "Step 1: Reverse the input: \"elppa\"\n",
    "Step 2: Replace all vowels using the following chart:\n",
    "a => 0\n",
    "e => 1\n",
    "i => 2\n",
    "o => 2\n",
    "u => 3\n",
    "# \"1lpp0\"\n",
    "Step 3: Add \"aca\" to the end of the word: \"1lpp0aca\"\n",
    "Output: \"1lpp0aca\"\n",
    "Examples:\n",
    "encrypt(\"banana\") ➞ \"0n0n0baca\"\n",
    "encrypt(\"karaca\") ➞ \"0c0r0kaca\"\n",
    "encrypt(\"burak\") ➞ \"k0r3baca\"\n",
    "encrypt(\"alpaca\") ➞ \"0c0pl0aca\""
   ]
  },
  {
   "cell_type": "markdown",
   "metadata": {},
   "source": [
    "Ans 2)"
   ]
  },
  {
   "cell_type": "code",
   "execution_count": 21,
   "metadata": {},
   "outputs": [
    {
     "name": "stdout",
     "output_type": "stream",
     "text": [
      "Enter string: fksjfijesroekepowopripwirpujyhotkpptoepwx\n",
      " You have entered:  fksjfijesroekepowopripwirpujyhotkpptoepwx\n",
      "Enctyption for the string entered is:  xwp12tppkt2hyj3pr2wp2rp2w2p1k12rs1j2fjskfaca\n"
     ]
    }
   ],
   "source": [
    "def encrypt(string):\n",
    "    vowels = {\"a\":\"0\", \"e\":\"1\", \"i\":\"2\", \"o\":\"2\", \"u\": \"3\"}\n",
    "    out = \"\"\n",
    "    for i in string[::-1]:\n",
    "        if i in vowels.keys():\n",
    "            out = out + vowels[i]\n",
    "        else:\n",
    "            out = out + i\n",
    "            \n",
    "    out = out + \"aca\"\n",
    "    \n",
    "    return out\n",
    "\n",
    "s = input(\"Enter string: \")\n",
    "print(\" You have entered: \", s)\n",
    "print(\"Enctyption for the string entered is: \", encrypt(s))\n"
   ]
  },
  {
   "cell_type": "markdown",
   "metadata": {},
   "source": [
    "3) Given the month and year as numbers, return whether that month contains\n",
    "a Friday 13th.(i.e You can check Python&#39;s datetime module)\n",
    "Examples\n",
    "has_friday_13(3, 2020) ➞ True\n",
    "has_friday_13(10, 2017) ➞ True\n",
    "has_friday_13(1, 1985) ➞ False"
   ]
  },
  {
   "cell_type": "markdown",
   "metadata": {},
   "source": [
    "Ans 3)"
   ]
  },
  {
   "cell_type": "code",
   "execution_count": 31,
   "metadata": {},
   "outputs": [
    {
     "name": "stdout",
     "output_type": "stream",
     "text": [
      "Input the month you want to check, from 1 to 12: 12\n",
      "Input the year you want to check: 2021\n",
      "You have entered month:  12  and year:  2021  and was it a Friday:  False\n"
     ]
    }
   ],
   "source": [
    "import datetime\n",
    "def has_friday_13(month,year):\n",
    "    if datetime.datetime(year,month,13).strftime('%A') == \"Friday\":\n",
    "        output = True\n",
    "        \n",
    "    else:\n",
    "        output = False\n",
    "        \n",
    "    return output\n",
    "\n",
    "m = int(input(\"Input the month you want to check, from 1 to 12: \"))\n",
    "y = int(input(\"Input the year you want to check: \"))\n",
    "\n",
    "print(\"You have entered month: \", m, \" and\", \"year: \", y, \" and was it a Friday: \", has_friday_13(m,y))      \n",
    "\n",
    "                                                 "
   ]
  },
  {
   "cell_type": "code",
   "execution_count": 32,
   "metadata": {},
   "outputs": [
    {
     "name": "stdout",
     "output_type": "stream",
     "text": [
      "has_friday_13(3, 2020) ➞ True\n",
      "has_friday_13(10, 2017) ➞ True\n",
      "has_friday_13(1, 1985) ➞ False\n"
     ]
    }
   ],
   "source": [
    "import datetime\n",
    "def has_friday_13(month,year):\n",
    "    output = False\n",
    "    if datetime.datetime(year,month,13).strftime('%A') == 'Friday':\n",
    "        output = True\n",
    "    print(f'has_friday_13{month,year} ➞ {output}')\n",
    "\n",
    "has_friday_13(3, 2020)\n",
    "has_friday_13(10, 2017)\n",
    "has_friday_13(1, 1985)"
   ]
  },
  {
   "cell_type": "markdown",
   "metadata": {},
   "source": [
    "4) Write a regular expression that will help us count how many bad cookies are produced every day. You must use RegEx negative lookbehind.\n",
    "Examples:\n",
    "lst = [\"bad cookie\", \"good cookie\", \"bad cookie\", \"good cookie\", \"good cookie\"]\n",
    "pattern = \"yourregularexpressionhere\"\n",
    "len(re.findall(pattern, \", \".join(lst))) ➞ 2"
   ]
  },
  {
   "cell_type": "markdown",
   "metadata": {},
   "source": [
    "Ans 4) "
   ]
  },
  {
   "cell_type": "code",
   "execution_count": 39,
   "metadata": {},
   "outputs": [
    {
     "name": "stdout",
     "output_type": "stream",
     "text": [
      "The number of good cookies is:  2\n"
     ]
    }
   ],
   "source": [
    "import re\n",
    "\n",
    "\n",
    "listo = [\"bad cookie\", \"good cookie\", \"bad cookie\", \"good cookie\", \"good cookie\"]\n",
    "\n",
    "def countgudcookies(l):\n",
    "    \n",
    "    pattern = r'(?<!good)\\scookie'# Regex Negative lookbehind expression\n",
    "    data = re.findall(pattern,' '.join(listo))\n",
    "    data\n",
    "    return len(data)\n",
    "\n",
    "print(\"The number of good cookies is: \", countgudcookies(listo))"
   ]
  },
  {
   "cell_type": "markdown",
   "metadata": {},
   "source": [
    "5) Given a list of words in the singular form, return a set of those words in the\n",
    "plural form if they appear more than once in the list."
   ]
  },
  {
   "cell_type": "markdown",
   "metadata": {},
   "source": [
    "Ans 5)"
   ]
  },
  {
   "cell_type": "code",
   "execution_count": 4,
   "metadata": {},
   "outputs": [
    {
     "data": {
      "text/plain": [
       "{'cows', 'pig'}"
      ]
     },
     "execution_count": 4,
     "metadata": {},
     "output_type": "execute_result"
    }
   ],
   "source": [
    "def pluralize(listo):\n",
    "    out = set()\n",
    "    for i in set(listo):\n",
    "        if listo.count(i) > 1:\n",
    "            out.add(i+\"s\")\n",
    "            \n",
    "        else:\n",
    "            out.add(i)\n",
    "            \n",
    "    return out\n",
    "\n",
    "pluralize([\"cow\", \"pig\", \"cow\", \"cow\"])\n",
    "\n",
    "\n"
   ]
  },
  {
   "cell_type": "code",
   "execution_count": null,
   "metadata": {},
   "outputs": [],
   "source": []
  }
 ],
 "metadata": {
  "kernelspec": {
   "display_name": "Python 3",
   "language": "python",
   "name": "python3"
  },
  "language_info": {
   "codemirror_mode": {
    "name": "ipython",
    "version": 3
   },
   "file_extension": ".py",
   "mimetype": "text/x-python",
   "name": "python",
   "nbconvert_exporter": "python",
   "pygments_lexer": "ipython3",
   "version": "3.6.5"
  }
 },
 "nbformat": 4,
 "nbformat_minor": 2
}
