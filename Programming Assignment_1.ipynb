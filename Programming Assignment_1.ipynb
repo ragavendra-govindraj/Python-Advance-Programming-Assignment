{
 "cells": [
  {
   "cell_type": "markdown",
   "metadata": {},
   "source": [
    "1) Write a function that takes a list of lists and returns the value of all of the\n",
    "symbols in it, where each symbol adds or takes something from the total\n",
    "score. Symbol values:\n",
    "# = 5\n",
    "O = 3\n",
    "X = 1\n",
    "! = -1\n",
    "!! = -3\n",
    "!!! = -5\n",
    "A list of lists containing 2 #s, a O, and a !!! would equal (0 + 5 + 5 + 3 - 5) 8.\n",
    "If the final score is negative, return 0 (e.g. 3 #s, 3 !!s, 2 !!!s and a X would be\n",
    "(0 + 5 + 5 + 5 - 3 - 3 - 3 - 5 - 5 + 1) -3, so return 0.\n",
    "Examples\n",
    "check_score([\n",
    "[&quot;#&quot;, &quot;!&quot;],\n",
    "[&quot;!!&quot;, &quot;X&quot;]\n",
    "]) ➞ 2\n",
    "check_score([\n",
    "[&quot;!!!&quot;, &quot;O&quot;, &quot;!&quot;],\n",
    "[&quot;X&quot;, &quot;#&quot;, &quot;!!!&quot;],\n",
    "[&quot;!!&quot;, &quot;X&quot;, &quot;O&quot;]\n",
    "]) ➞ 0"
   ]
  },
  {
   "cell_type": "markdown",
   "metadata": {},
   "source": [
    "Ans 1)"
   ]
  },
  {
   "cell_type": "code",
   "execution_count": 4,
   "metadata": {},
   "outputs": [
    {
     "name": "stdout",
     "output_type": "stream",
     "text": [
      "checkscore([['#', '!'], ['!!', 'X']]) ➞ 1\n",
      "checkscore([['!!!', 'O', '!'], ['X', '#', '!!!'], ['!!', 'X', 'O']]) ➞ 3\n"
     ]
    }
   ],
   "source": [
    "def checkscore(listo):\n",
    "    check_dict = {\"#\":5, 'O':3, \"X\":1, \"!\":-1,\"!!\":-3,\"!!!\":-5}\n",
    "    out = 0\n",
    "    for i in listo:\n",
    "        for j in i:\n",
    "            out = check_dict[j]\n",
    "            \n",
    "    if(out<0):\n",
    "        \n",
    "        print(f'checkscore({listo}) ➞ {0}')\n",
    "    else:\n",
    "        print(f'checkscore({listo}) ➞ {out}')\n",
    "        \n",
    "checkscore([[\"#\", \"!\"],[\"!!\", \"X\"]])\n",
    "\n",
    "checkscore([[\"!!!\", \"O\", \"!\"],[\"X\", \"#\", \"!!!\"],[\"!!\", \"X\", \"O\"]])\n",
    "        "
   ]
  },
  {
   "cell_type": "markdown",
   "metadata": {},
   "source": [
    "2) Create a function that takes a variable number of arguments, each\n",
    "argument representing the number of items in a group, and returns the\n",
    "number of permutations (combinations) of items that you could get by taking\n",
    "one item from each group.\n",
    "\n",
    "Examples\n",
    "combinations(2, 3) ➞ 6\n",
    "combinations(3, 7, 4) ➞ 84\n",
    "combinations(2, 3, 4, 5) ➞ 120"
   ]
  },
  {
   "cell_type": "markdown",
   "metadata": {},
   "source": [
    "Ans 2)"
   ]
  },
  {
   "cell_type": "code",
   "execution_count": 6,
   "metadata": {},
   "outputs": [
    {
     "name": "stdout",
     "output_type": "stream",
     "text": [
      "combinations(2, 3) ➞ 6\n",
      "combinations(2, 3, 4, 5) ➞ 120\n"
     ]
    }
   ],
   "source": [
    "def combinations(*args):\n",
    "    out = 1\n",
    "    for i in args:\n",
    "        out = out*i\n",
    "        \n",
    "    print(f'combinations{args} ➞ {out}')\n",
    "    \n",
    "combinations(2,3)\n",
    "combinations(2,3,4,5)"
   ]
  },
  {
   "cell_type": "markdown",
   "metadata": {},
   "source": [
    "3) Create a function that takes a string as an argument and returns the Morse\n",
    "code equivalent."
   ]
  },
  {
   "cell_type": "markdown",
   "metadata": {},
   "source": [
    "Examples:\n",
    "encode_morse(\"EDABBIT CHALLENGE\") ➞ \". -.. .- -... -... .. - -.-. .... .- .-.. .-... -. --. .\"\n",
    "encode_morse(\"HELP ME !\") ➞ \".... . .-.. .--. -- . -.-.--\"\n",
    "This dictionary can be used for coding:\n",
    "char_to_dots = {\n",
    "'A': '.-', 'B': '-...', 'C': '-.-.', 'D': '-..', 'E': '.', 'F': '..-.',\n",
    "'G': '--.', 'H': '....', 'I': '..', 'J': '.---', 'K': '-.-', 'L': '.-..',\n",
    "'M': '--', 'N': '-.', 'O': '---', 'P': '.--.', 'Q': '--.-', 'R': '.-.',\n",
    "'S': '...', 'T': '-', 'U': '..-', 'V': '...-', 'W': '.--', 'X': '-..-',\n",
    "'Y': '-.--', 'Z': '--..', ' ': ' ', '0': '-----',\n",
    "'1': '.----', '2': '..---', '3': '...--', '4': '....-', '5': '.....',\n",
    "'6': '-....', '7': '--...', '8': '---..', '9': '----.',\n",
    "'&': '.-...', \"'\": '.----.', '@': '.--.-.', ')': '-.--.-', '(': '-.--.',\n",
    "':': '---...', ',': '--..--', '=': '-...-', '!': '-.-.--', '.': '.-.-.-',\n",
    "'-': '-....-', '+': '.-.-.', '\"': '.-..-.', '?': '..--..', '/': '-..-.'\n",
    "}\n",
    "\n"
   ]
  },
  {
   "cell_type": "markdown",
   "metadata": {},
   "source": [
    "Ans 3)"
   ]
  },
  {
   "cell_type": "code",
   "execution_count": 13,
   "metadata": {},
   "outputs": [
    {
     "name": "stdout",
     "output_type": "stream",
     "text": [
      "Enter the string with all in caps and numbers or special charectersHKJKJSS\n",
      "The Morse code of text entered by you is:  ....-.-.----.-.---......\n"
     ]
    }
   ],
   "source": [
    "def encode_morse(in_string):\n",
    "    out_string = ''\n",
    "    char_to_dots = {\n",
    "            'A': '.-', 'B': '-...', 'C': '-.-.', 'D': '-..', 'E': '.', 'F': '..-.',\n",
    "            'G': '--.', 'H': '....', 'I': '..', 'J': '.---', 'K': '-.-', 'L': '.-..',\n",
    "            'M': '--', 'N': '-.', 'O': '---', 'P': '.--.', 'Q': '--.-', 'R': '.-.',\n",
    "            'S': '...', 'T': '-', 'U': '..-', 'V': '...-', 'W': '.--', 'X': '-..-',\n",
    "            'Y': '-.--', 'Z': '--..', ' ': ' ', '0': '-----',\n",
    "            '1': '.----', '2': '..---', '3': '...--', '4': '....-', '5': '.....',\n",
    "            '6': '-....', '7': '--...', '8': '---..', '9': '----.',\n",
    "            '&': '.-...', \"'\": '.----.', '@': '.--.-.', ')': '-.--.-', '(': '-.--.',\n",
    "            ':': '---...', ',': '--..--', '=': '-...-', '!': '-.-.--', '.': '.-.-.-',\n",
    "            '-': '-....-', '+': '.-.-.', '\"': '.-..-.', '?': '..--..', '/': '-..-.'\n",
    "        }\n",
    "    for i in in_string:\n",
    "        out_string = out_string + char_to_dots[i]\n",
    "        \n",
    "    return out_string\n",
    "\n",
    "inputstring = input(\"Enter the string with all in caps and numbers or special charecters\")\n",
    "print(\"The Morse code of text entered by you is: \", encode_morse(inputstring))\n"
   ]
  },
  {
   "cell_type": "markdown",
   "metadata": {},
   "source": [
    "4) Write a function that takes a number and returns True if it&#39;s a prime; False\n",
    "otherwise. The number can be 2^64-1 (2 to the power of 63, not XOR). With\n",
    "the standard technique it would be O(2^64-1), which is much too large for the\n",
    "10 second time limit.\n",
    "Examples\n",
    "prime(7) ➞ True\n",
    "prime(56963) ➞ True\n",
    "prime(5151512515524) ➞ False"
   ]
  },
  {
   "cell_type": "markdown",
   "metadata": {},
   "source": [
    "Ans 4)"
   ]
  },
  {
   "cell_type": "code",
   "execution_count": 16,
   "metadata": {},
   "outputs": [
    {
     "name": "stdout",
     "output_type": "stream",
     "text": [
      "564\n",
      "Is  564  prime:  False\n"
     ]
    }
   ],
   "source": [
    "def prime(in_num):\n",
    "    outbool = False\n",
    "    \n",
    "    if (in_num-1)%6 == 0  or (in_num+1)%6 == 0:\n",
    "        \n",
    "        \n",
    "        outbool = True\n",
    "    \n",
    "    else:\n",
    "        \n",
    "          \n",
    "        outbool = False\n",
    "        \n",
    "    return outbool\n",
    "\n",
    "\n",
    "\n",
    "number =  int(input())\n",
    "\n",
    "print(\"Is \", number, \" prime: \", prime(number))"
   ]
  },
  {
   "cell_type": "code",
   "execution_count": 17,
   "metadata": {},
   "outputs": [
    {
     "name": "stdout",
     "output_type": "stream",
     "text": [
      "prime(7) ➞ True\n",
      "prime(56963) ➞ True\n",
      "prime(5151512515524) ➞ False\n"
     ]
    }
   ],
   "source": [
    "def prime(in_num):\n",
    "    out_bool = False\n",
    "    if ((in_num-1)%6 == 0) or ((in_num+1)%6 == 0):\n",
    "        out_bool = True\n",
    "    print(f'prime({in_num}) ➞ {out_bool}')\n",
    "\n",
    "prime(7)\n",
    "prime(56963)\n",
    "prime(5151512515524)"
   ]
  },
  {
   "cell_type": "markdown",
   "metadata": {},
   "source": [
    "5) Create a function that converts a word to a bitstring and then to a boolean\n",
    "list based on the following criteria:\n",
    "1. Locate the position of the letter in the English alphabet (from 1 to 26).\n",
    "2. Odd positions will be represented as 1 and 0 otherwise.\n",
    "3. Convert the represented positions to boolean values, 1 for True and 0\n",
    "for False.\n",
    "4. Store the conversions into an array.\n",
    "Examples\n",
    "to_boolean_list(&quot;deep&quot;) ➞ [False, True, True, False]\n",
    "# deep converts to 0110\n",
    "# d is the 4th alphabet - 0\n",
    "# e is the 5th alphabet - 1\n",
    "# e is the 5th alphabet - 1\n",
    "# p is the 16th alphabet - 0\n",
    "to_boolean_list(&quot;loves&quot;) ➞ [False, True, False, True, True]\n",
    "to_boolean_list(&quot;tesh&quot;) ➞ [False, True, True, False]"
   ]
  },
  {
   "cell_type": "markdown",
   "metadata": {},
   "source": [
    "Ans 5) "
   ]
  },
  {
   "cell_type": "code",
   "execution_count": 40,
   "metadata": {},
   "outputs": [
    {
     "name": "stdout",
     "output_type": "stream",
     "text": [
      "Enter string: fcksjkcd\n",
      "The boolean version  of  fcksjkcd is  [False, True, True, True, False, True, True, False]\n"
     ]
    }
   ],
   "source": [
    "def toboolean(string):\n",
    "    alphabets = \"abcdefghijklmnopqrstuvwxyz\"\n",
    "    out = []\n",
    "    \n",
    "    for i in string:\n",
    "        out.append(bool((alphabets.index(i)+1)%2))\n",
    "        \n",
    "    return out\n",
    "\n",
    "stringo = input(\"Enter string: \")\n",
    "print(\"The boolean version  of \", stringo, \"is \", toboolean(stringo))"
   ]
  },
  {
   "cell_type": "code",
   "execution_count": 31,
   "metadata": {},
   "outputs": [],
   "source": []
  },
  {
   "cell_type": "code",
   "execution_count": null,
   "metadata": {},
   "outputs": [],
   "source": []
  }
 ],
 "metadata": {
  "kernelspec": {
   "display_name": "Python 3",
   "language": "python",
   "name": "python3"
  },
  "language_info": {
   "codemirror_mode": {
    "name": "ipython",
    "version": 3
   },
   "file_extension": ".py",
   "mimetype": "text/x-python",
   "name": "python",
   "nbconvert_exporter": "python",
   "pygments_lexer": "ipython3",
   "version": "3.6.5"
  }
 },
 "nbformat": 4,
 "nbformat_minor": 2
}
